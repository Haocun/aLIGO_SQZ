{
 "cells": [
  {
   "cell_type": "code",
   "execution_count": 1,
   "metadata": {},
   "outputs": [
    {
     "name": "stdout",
     "output_type": "stream",
     "text": [
      "                                              ..-\n",
      "    PyKat 1.1.297         _                  '(\n",
      "                          \\`.|\\.__...-\"\"\"\"-_.\" )\n",
      "       ..+-----.._        /  ' `            .-'\n",
      "   . '            `:      7/* _/._\\    \\   (\n",
      "  (        '::;;+;;:      `-\"' =\" /,`\"\" `) /\n",
      "  L.        \\`:::a:f            c_/     n_'\n",
      "  ..`--...___`.  .    ,\n",
      "   `^-....____:   +.      www.gwoptics.org/pykat\n",
      "\n"
     ]
    }
   ],
   "source": [
    "###\n",
    "import os\n",
    "os.environ['FINESSE_DIR'] = \"/home/haocun.yu/.conda/envs/finesse/bin/\"\n",
    "os.environ['KATINI'] = \"/home/haocun.yu/.conda/envs/finesse/bin/kat.ini\"\n",
    "import pykat\n",
    "import matplotlib.pyplot as pl\n",
    "from scipy import stats\n",
    "import numpy as np\n",
    "# import pandas\n",
    "\n",
    "%matplotlib inline"
   ]
  },
  {
   "cell_type": "code",
   "execution_count": 2,
   "metadata": {},
   "outputs": [],
   "source": [
    "kat_code = \"\"\"\n",
    "\n",
    "###### Inject Squeezer laser.\n",
    "l sqz 1u 0 nSQZ \n",
    "\n",
    "bs M1_OPO 0 1 0 6 nSQZ dump nM1_OPOc dump\n",
    "s subM1_OPO 6.35 $nsilica nM1_OPOc nM1_OPO_ARa\n",
    "bs M1_OPO_AR 0 1 0 6 nM1_OPO_ARa dump nM1_OPO_ARc dump\n",
    "s lM1_OPO_EDGE 44m nM1_OPO_ARc nOPO_EDGEa\n",
    "m OPO_EDGE 0 1 0 nOPO_EDGEa nOPO_EDGEb\n",
    "\n",
    "# edge of OPO block\n",
    "s lsqz_lens1 0 nOPO_EDGEb nSQZa\n",
    "\n",
    "lens sqz_lens1 1 nSQZa nSQZb\n",
    "\n",
    "s lsqz_lens1_faraday 0 nSQZb nSQZc\n",
    "\n",
    "# 20 mm TGG faraday crystal\n",
    "m msqz_faraday_a 0 1 0 nSQZc nSQZd\n",
    "s lsqz_faraday 20m 1.95 nSQZd nSQZe\n",
    "m msqz_faraday_b 0 1 0 nSQZe nSQZf\n",
    "\n",
    "s lsqz_faraday_lens2 0 nSQZf nSQZg\n",
    "\n",
    "lens sqz_lens2 1 nSQZg nSQZh\n",
    "s lsqz_lens2_zm1 5 nSQZh nZM1a \n",
    "\n",
    "bs1 ZM1 800u $Mloss 0 45 nZM1a nZM1b dump dump\n",
    "s lzm1_zm2 10.0 nZM1b nZM2a\n",
    "\n",
    "bs1 ZM2 800u $Mloss 0 45 nZM2a nZM2b dump dump\n",
    "s lzm2_OFI 15.0 nZM2b nOFIout2\n",
    "\n",
    "\n",
    "###### Start of the Faraday\n",
    "# Distance from SRM (AR surface) to the input buffle assy (IBA) in OFI sus\n",
    "s lIBAin 0.491516 nSRMTT2b nIBAin\n",
    "m1 IBA 1 0 0 nIBAin nIBAout\n",
    "\n",
    "# Distance from IBA to input of OFI (Prism in between not considered)\n",
    "s lOFIin 0.16 nIBAout nOFIin\n",
    "\n",
    "# Input Polirizer IP (Silica)\n",
    "bs1 IP 1 0 0 0 nOFIin dump nIPtrans dump\n",
    "s lIP 0.019 $nsilica nIPtrans nROTin\n",
    "\n",
    "# Rotator (TGG)\n",
    "m1 ROTin 1 0 0 nROTin nROTb\n",
    "s lROT 0.08285 $nTGG nROTb nROTouta\n",
    "m1 ROTout 1 0 0 nROTouta nOPa\n",
    "\n",
    "# Output polirizer OP (Silica)\n",
    "s lOP 0.019 $nsilica nOPa nOPb\n",
    "\n",
    "dbs OPP nOPb nOPc nOPd nOPz\n",
    "\n",
    "# output port of FI where squeezed field is injected\n",
    "s lOP2 0 $nsilica nOPc nOPe\n",
    "m1 mOFIout2 1 0 0 nOPe nOFIout2\n",
    "\n",
    "s lOP3 0 $nsilica nOPd nOPf\n",
    "m1 mOPinterface 1 0 0 nOPf nOFIout\n",
    "\n",
    "# Waveplate thickness \n",
    "s lWP 0.0127 $nCalcite nOFIout nWPa\n",
    "m1 WP 1 0 0 nWPa nWPb\n",
    "\n",
    "# Distance from Waveplate to OBA of OFI (Prism in between not considered)\n",
    "s lOBA 0.2098563 nWPb nOBAin\n",
    "m1 OBA 1 0 0 nOBAin nOBAout\n",
    "\n",
    "\n",
    "###### Signal recycling mirror \n",
    "m1 SRMHR $T_SRM $L_SRM $phi_SRM nSRMHRa nSRMHRb\n",
    "s SRMsub 0.0749 $nsilica nSRMHRb nSRMARa\n",
    "m2 SRMAR 50n 0 $phi_SRM nSRMARa nSRMARb\n",
    "attr SRMHR Rc -5.6938\n",
    "\n",
    "#Mode-matching telescope counteract lensing.\n",
    "s lSRMTT1  0 nSRMARb nSRMTT1a\n",
    "lens SRMTT1 inf  nSRMTT1a nSRMTT1b\n",
    "\n",
    "s lSRMTT2 0 nSRMTT1b nSRMTT2a \n",
    "lens SRMTT2 inf nSRMTT2a nSRMTT2b\n",
    "\n",
    "\n",
    "##### Path to OMC from OFI\n",
    "# Distance OBA --> OM1  \n",
    "s lom1 2.724 nOBAout nOM1a \n",
    "\n",
    "#OM1\n",
    "bs1 OM1 800u $Mloss 0 2.251 nOM1a nOM1b dump dump # T is set for high power; Loss is a guess\n",
    "attr OM1 Rc 4.6\n",
    "\n",
    "# Distance OM1 --> OM2\n",
    "s lom2 1.395 nOM1b nOM2a \n",
    "\n",
    "# OM2\n",
    "bs1 OM2 10u $Mloss 0 4.399 nOM2a nOM2b dump dump  # T is a guess\n",
    "attr OM2 Rc 1.7058\n",
    "\n",
    "# Distance OM2 --> OM3\n",
    "s lom3 0.631 nOM2b nOM3a \n",
    "bs1 OM3 10u $Mloss 0 30.037 nOM3a nOM3b nOM3trans dump # T is a guess\n",
    "\n",
    "# Distance OM3 --> OMC input coupler IC (AR side)\n",
    "s lom3omc 0.196 nOM3b nOMC_ARIC_in # By design should be ~0.31\n",
    "\n",
    "###### AS WFSs\n",
    "# Design T1200410-v2, Page 5, Tab.2\n",
    "#  Distance measured on Nov 19th, 2018 alog45372,45405\n",
    "s lOM3trans2ASWFSl 0.6433 nOM3trans nASWFSl101A\n",
    "lens l101 0.334 nASWFSl101A nASWFSl101B  \n",
    "s lASWFSlWFSBS 0.06 nASWFSl101B nASWFSBSin\n",
    "bs ASWFSBS 0.5 0.5 0 45 nASWFSBSin nASWFSBSrefl nASWFSBStrans dump\n",
    "\n",
    "s lASWFSBS2ASWFSA 0.135 nASWFSBSrefl nASWFSA\n",
    "attr lASWFSBS2ASWFSA gouy 70\n",
    "\n",
    "s lASWFSBS2ASWFSB 0.4206 nASWFSBStrans nASWFSB\n",
    "attr lASWFSBS2ASWFSB gouy 160\n",
    "\n",
    "###########################################################################\n",
    "%%% FTend OMCpath \n",
    "\n",
    "%%% FTblock OMC\n",
    "###########################################################################\n",
    "# OMC (as built parameters: D1300507-v1)\n",
    "\n",
    "# Input Coupler IC (flat mirror)\n",
    "bs1 OMC_ARIC 1 0 0 4.004 nOMC_ARIC_in dump nOMC_ARIC_trans dump \n",
    "s subOMC_IC 0.01078 $nsilica nOMC_ARIC_trans nOMC_HRIC_in\n",
    "bs1 OMC_HRIC 0.0076 10u 0 2.7609 nOMC_HRIC_in dump nOMC_HRIC_trans nOMC_HRICret\n",
    "# Distance from IC to OC \n",
    "s OMC_ICOC 0.2815 1 nOMC_HRIC_trans nOMC_HROC_in\n",
    "\n",
    "# Output Coupler OC (flat mirror)\n",
    "bs1 OMC_HROC 0.0075 10u 0 4.004 nOMC_HROC_in nOMC_HROC_refl nOMC_HROC_trans nOMC_HROC_ret\n",
    "s subOMC_OC 0.01078 $nsilica nOMC_HROC_trans nOMC_AROC_in\n",
    "bs1 OMC_AROC 1 0 0 2.7609 nOMC_AROC_in dump nOMC_AROC_trans dump\n",
    "# Distance from OC to CM1\n",
    "s OMC_OCCM1 0.2842 1 nOMC_HROC_refl nOMC_CM1_in\n",
    "\n",
    "# Curved Mirror CM1\n",
    "bs1 OMC_CM1 36u 10u 0 4.004 nOMC_CM1_in nOMC_CM1_refl dump dump\n",
    "\n",
    "# Distance from CM1 to CM2 \n",
    "s OMC_CM1CM2 0.2815 1 nOMC_CM1_refl nOMC_CM2_in\n",
    "attr OMC_CM1 Rc 2.57321\n",
    "\n",
    "# Curved Mirror CM2\n",
    "bs1 OMC_CM2 35.9u 10u 0 4.004 nOMC_CM2_in nOMC_CM2_refl dump dump\n",
    "attr OMC_CM2 Rc 2.57369\n",
    "\n",
    "# Distance from CM2 to IC \n",
    "s CM2OC 0.2842 1 nOMC_CM2_refl nOMC_HRICret\n",
    "\n",
    "cav cavOMC OMC_HROC nOMC_HROC_refl OMC_HROC nOMC_HROC_in\n",
    "\n",
    "const nsilica 1.44963098985906\n",
    "const Mloss 37.5u\n",
    "const T_SRM 0.3234\n",
    "const L_SRM 8.7u\n",
    "const nTGG 1.954\n",
    "const nCalcite 1.65846\n",
    "const phi_SRM 90.0079280184854\n",
    "\n",
    "pd OMC_DCPD nOMC_AROC_trans\n",
    "pd pd_test1 nSRMHRa\n",
    "pd pd_test2 nSRMTT2b\n",
    "\n",
    "maxtem 4\n",
    "\n",
    "yaxis abs\n",
    "\n",
    "pd AS_A_DC_P nASWFSA\n",
    "pdtype AS_A_DC_P y-split\n",
    "\n",
    "pd AS_A_DC_Y nASWFSA\n",
    "pdtype AS_A_DC_Y x-split\n",
    "\n",
    "pd AS_B_DC_P nASWFSB\n",
    "pdtype AS_B_DC_P y-split\n",
    "\n",
    "pd AS_B_DC_Y nASWFSB\n",
    "pdtype AS_B_DC_Y x-split\n",
    "\"\"\""
   ]
  },
  {
   "cell_type": "code",
   "execution_count": 3,
   "metadata": {},
   "outputs": [],
   "source": [
    "basekat = pykat.finesse.kat() \n",
    "basekat.parse(kat_code)"
   ]
  },
  {
   "cell_type": "code",
   "execution_count": 29,
   "metadata": {},
   "outputs": [
    {
     "name": "stdout",
     "output_type": "stream",
     "text": [
      "ZM1 ybeta\n",
      "ZM1 xbeta\n",
      "ZM2 ybeta\n",
      "ZM2 xbeta\n",
      "[-2.0e-06 -1.6e-06 -1.2e-06 -8.0e-07 -4.0e-07  0.0e+00  4.0e-07  8.0e-07\n",
      "  1.2e-06  1.6e-06  2.0e-06]\n",
      "[-5.49960699e-13 -4.41569428e-13 -3.32115506e-13 -2.21858867e-13\n",
      " -1.11064326e-13  0.00000000e+00  1.11064326e-13  2.21858867e-13\n",
      "  3.32115506e-13  4.41569428e-13  5.49960699e-13]\n",
      "[-1.61013735e-13 -1.28947336e-13 -9.67899248e-14 -6.45643956e-14\n",
      " -3.22935232e-14  0.00000000e+00  3.22935232e-14  6.45643956e-14\n",
      "  9.67899248e-14  1.28947336e-13  1.61013735e-13]\n"
     ]
    }
   ],
   "source": [
    "sensors = ['AS_A_DC_P','AS_A_DC_Y','AS_B_DC_P','AS_B_DC_Y']\n",
    "\n",
    "actuators = ['ZM1','ZM2']\n",
    "\n",
    "dofs = ['ybeta','xbeta']\n",
    "\n",
    "act_dofs = ['ZM1_P','ZM1_Y','ZM2_P','ZM2_Y']\n",
    "\n",
    "out_list = []\n",
    "\n",
    "for act in range(len(actuators)):\n",
    "    for i in range(len(dofs)):\n",
    "        act_commands = \"\"\"\n",
    "        xaxis {mname} {dof} lin -2e-6 2e-6 10\n",
    "        \"\"\".format(mname=actuators[act],dof=dofs[i])\n",
    "        kat = basekat.deepcopy()\n",
    "        kat.parse(act_commands)\n",
    "        kat.verbose = False\n",
    "        out = kat.run()\n",
    "        out_list.append(out)\n",
    "        print (actuators[act],dofs[i])\n",
    "print (out_list[1].x)\n",
    "print (out_list[1]['AS_A_DC_Y'])\n",
    "print (out_list[0]['AS_B_DC_P'])"
   ]
  },
  {
   "cell_type": "code",
   "execution_count": 14,
   "metadata": {},
   "outputs": [],
   "source": [
    "def slope_finder(x,y):\n",
    "    slope, intercept, r_value, p_value, std_err = stats.linregress(x,y)\n",
    "    return slope"
   ]
  },
  {
   "cell_type": "code",
   "execution_count": 39,
   "metadata": {},
   "outputs": [],
   "source": [
    "y1AP = slope_finder(out_list[0].x, out_list[0]['AS_A_DC_P'])\n",
    "y1BP = slope_finder(out_list[0].x, out_list[0]['AS_B_DC_P'])\n",
    "x1AY = slope_finder(out_list[1].x, out_list[1]['AS_A_DC_Y'])\n",
    "x1BY = slope_finder(out_list[1].x, out_list[1]['AS_B_DC_Y'])\n",
    "y2AP = slope_finder(out_list[2].x, out_list[2]['AS_A_DC_P'])\n",
    "y2BP = slope_finder(out_list[2].x, out_list[2]['AS_B_DC_P'])\n",
    "x2AY = slope_finder(out_list[3].x, out_list[3]['AS_A_DC_Y'])\n",
    "x2BY = slope_finder(out_list[3].x, out_list[3]['AS_B_DC_Y'])"
   ]
  },
  {
   "cell_type": "code",
   "execution_count": 38,
   "metadata": {},
   "outputs": [
    {
     "name": "stdout",
     "output_type": "stream",
     "text": [
      "        ZM1ybeta ZM1xbeta ZM2ybeta ZM2xbeta\n",
      "AS_A_DC_P -1.9719907499376258e-07 2.757822629658493e-07 -1.1261070310718455e-07 -1.5788329239643772e-07\n",
      "AS_B_DC_P 8.057500501848179e-08 1.2086784332387396e-07 3.946950496165178e-08 -5.985153816138363e-08\n"
     ]
    },
    {
     "ename": "NameError",
     "evalue": "name 'y1AY' is not defined",
     "output_type": "error",
     "traceback": [
      "\u001b[0;31m---------------------------------------------------------------------------\u001b[0m",
      "\u001b[0;31mNameError\u001b[0m                                 Traceback (most recent call last)",
      "\u001b[0;32m<ipython-input-38-678414fc9842>\u001b[0m in \u001b[0;36m<module>\u001b[0;34m\u001b[0m\n\u001b[1;32m      2\u001b[0m \u001b[0mprint\u001b[0m \u001b[0;34m(\u001b[0m\u001b[0;34m'AS_A_DC_P'\u001b[0m\u001b[0;34m,\u001b[0m\u001b[0my1AP\u001b[0m\u001b[0;34m,\u001b[0m\u001b[0mx1AP\u001b[0m\u001b[0;34m,\u001b[0m\u001b[0my2AP\u001b[0m\u001b[0;34m,\u001b[0m\u001b[0mx2AP\u001b[0m \u001b[0;34m)\u001b[0m\u001b[0;34m\u001b[0m\u001b[0m\n\u001b[1;32m      3\u001b[0m \u001b[0mprint\u001b[0m \u001b[0;34m(\u001b[0m\u001b[0;34m'AS_B_DC_P'\u001b[0m\u001b[0;34m,\u001b[0m\u001b[0my1BP\u001b[0m\u001b[0;34m,\u001b[0m\u001b[0mx1BP\u001b[0m\u001b[0;34m,\u001b[0m\u001b[0my2BP\u001b[0m\u001b[0;34m,\u001b[0m\u001b[0mx2BP\u001b[0m \u001b[0;34m)\u001b[0m\u001b[0;34m\u001b[0m\u001b[0m\n\u001b[0;32m----> 4\u001b[0;31m \u001b[0mprint\u001b[0m \u001b[0;34m(\u001b[0m\u001b[0;34m'AS_A_DC_Y'\u001b[0m\u001b[0;34m,\u001b[0m\u001b[0my1AY\u001b[0m\u001b[0;34m,\u001b[0m\u001b[0mx1AY\u001b[0m\u001b[0;34m,\u001b[0m\u001b[0my2AY\u001b[0m\u001b[0;34m,\u001b[0m\u001b[0mx2AY\u001b[0m \u001b[0;34m)\u001b[0m\u001b[0;34m\u001b[0m\u001b[0m\n\u001b[0m\u001b[1;32m      5\u001b[0m \u001b[0mprint\u001b[0m \u001b[0;34m(\u001b[0m\u001b[0;34m'AS_B_DC_Y'\u001b[0m\u001b[0;34m,\u001b[0m\u001b[0my1BY\u001b[0m\u001b[0;34m,\u001b[0m\u001b[0mx1BY\u001b[0m\u001b[0;34m,\u001b[0m\u001b[0my2BY\u001b[0m\u001b[0;34m,\u001b[0m\u001b[0mx2BY\u001b[0m \u001b[0;34m)\u001b[0m\u001b[0;34m\u001b[0m\u001b[0m\n",
      "\u001b[0;31mNameError\u001b[0m: name 'y1AY' is not defined"
     ]
    }
   ],
   "source": [
    "print ('       ','ZM1ybeta','ZM1xbeta','ZM2ybeta','ZM2xbeta')\n",
    "print ('AS_A_DC_P',y1AP,x1AP,y2AP,x2AP)\n",
    "print ('AS_B_DC_P',y1BP,x1BP,y2BP,x2BP)\n",
    "print ('AS_A_DC_Y','0',x1AY,y2AY,x2AY)\n",
    "print ('AS_B_DC_Y','0',x1BY,y2BY,x2BY)"
   ]
  },
  {
   "cell_type": "code",
   "execution_count": null,
   "metadata": {},
   "outputs": [],
   "source": [
    "act_matrix = pandas.DataFrame(columns=sensors, index=act_dofs)"
   ]
  },
  {
   "cell_type": "code",
   "execution_count": null,
   "metadata": {},
   "outputs": [],
   "source": []
  },
  {
   "cell_type": "code",
   "execution_count": 80,
   "metadata": {},
   "outputs": [
    {
     "data": {
      "image/png": "[encoded data removed]",
      "text/plain": [
       "<Figure size 720x400 with 1 Axes>"
      ]
     },
     "metadata": {
      "needs_background": "light"
     },
     "output_type": "display_data"
    }
   ],
   "source": [
    "pl.figure(figsize=(9, 5), dpi=80)\n",
    "pl.subplot(111)\n",
    "\n",
    "pl.plot(out_list[0].x,out_list[0]['AS_A_DC_P'], 'o',linewidth=3,label='Pitch')\n",
    "pl.plot(out_list[1].x,out_list[1]['AS_A_DC_Y'], 'o',linewidth=3,label ='Yaw')\n",
    "\n",
    "pl.xlabel(\"Optic Tilt(rad)\")\n",
    "pl.ylabel(\"DC Signal (Watts)\")\n",
    "\n",
    "###Main plot formatting\n",
    "pl.tick_params(labelsize=12)\n",
    "pl.tick_params(which='both', width=2)\n",
    "pl.tick_params(which='major', length=7)\n",
    "pl.tick_params(which='minor', length=4)\n",
    "pl.grid(True, zorder=-1)\n",
    "pl.legend(fontsize=20)\n",
    "\n",
    "pl.show()"
   ]
  },
  {
   "cell_type": "code",
   "execution_count": 81,
   "metadata": {},
   "outputs": [
    {
     "name": "stderr",
     "output_type": "stream",
     "text": [
      "No handles with labels found to put in legend.\n"
     ]
    },
    {
     "data": {
      "image/png": "[encoded data removed]",
      "text/plain": [
       "<Figure size 720x400 with 1 Axes>"
      ]
     },
     "metadata": {
      "needs_background": "light"
     },
     "output_type": "display_data"
    }
   ],
   "source": [
    "pl.figure(figsize=(9, 5), dpi=80)\n",
    "pl.subplot(111)\n",
    "\n",
    "pl.plot(out_list[1].x,out_list[2]['AS_A_DC_P'], 'o',linewidth=3)\n",
    "pl.plot(out_list[1].x,out_list[3]['AS_A_DC_Y'], 'o',linewidth=3)\n",
    "\n",
    "pl.xlabel(\"Optic Tilt(rad)\")\n",
    "pl.ylabel(\"DC Signal (Watts)\")\n",
    "\n",
    "###Main plot formatting\n",
    "pl.tick_params(labelsize=12)\n",
    "pl.tick_params(which='both', width=2)\n",
    "pl.tick_params(which='major', length=7)\n",
    "pl.tick_params(which='minor', length=4)\n",
    "pl.grid(True, zorder=-1)\n",
    "pl.legend(fontsize=20)\n",
    "\n",
    "pl.show()"
   ]
  },
  {
   "cell_type": "code",
   "execution_count": null,
   "metadata": {},
   "outputs": [],
   "source": [
    "pl.figure(figsize=(9, 5), dpi=80)\n",
    "pl.subplot(111)\n",
    "\n",
    "pl.plot(out_list[1].x,out_list[2]['AS_A_DC_P'], 'o',linewidth=3)\n",
    "pl.plot(out_list[1].x,out_list[3]['AS_A_DC_Y'], 'o',linewidth=3)\n",
    "\n",
    "pl.xlabel(\"Optic Tilt(rad)\")\n",
    "pl.ylabel(\"DC Signal (Watts)\")\n",
    "\n",
    "###Main plot formatting\n",
    "pl.tick_params(labelsize=12)\n",
    "pl.tick_params(which='both', width=2)\n",
    "pl.tick_params(which='major', length=7)\n",
    "pl.tick_params(which='minor', length=4)\n",
    "pl.grid(True, zorder=-1)\n",
    "pl.legend(fontsize=20)\n",
    "\n",
    "pl.show()"
   ]
  }
 ],
 "metadata": {
  "kernelspec": {
   "display_name": "Python (finesse)",
   "language": "python",
   "name": "finesse"
  },
  "language_info": {
   "codemirror_mode": {
    "name": "ipython",
    "version": 3
   },
   "file_extension": ".py",
   "mimetype": "text/x-python",
   "name": "python",
   "nbconvert_exporter": "python",
   "pygments_lexer": "ipython3",
   "version": "3.6.6"
  }
 },
 "nbformat": 4,
 "nbformat_minor": 2
}
